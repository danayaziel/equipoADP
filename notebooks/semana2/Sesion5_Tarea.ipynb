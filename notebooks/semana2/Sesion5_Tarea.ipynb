{
  "nbformat": 4,
  "nbformat_minor": 0,
  "metadata": {
    "colab": {
      "provenance": []
    },
    "kernelspec": {
      "name": "python3",
      "display_name": "Python 3"
    },
    "language_info": {
      "name": "python"
    }
  },
  "cells": [
    {
      "cell_type": "markdown",
      "source": [
        "# Sesion 5 - Tarea\n",
        "**Nombre**: Dana Yaziel Juarez Ramirez\n",
        "\n",
        "**Fecha**: 16 septiembre 2025\n",
        "\n",
        "**Tema**: Jupyter Notebook y Google colab"
      ],
      "metadata": {
        "id": "5XKQ4JR2ukBn"
      }
    },
    {
      "cell_type": "markdown",
      "source": [
        "*Diferencia entre Jupyter y Google Colab*\n",
        "\n",
        "Jupyter es una herramienta local que necesitas instalar y configurar en tu computadora, mientras que Google Colab es un servicio basado en la nube que funciona en tu navegador, no requiere instalación y ofrece acceso gratuito a recursos computacionales como GPUs y TPUs. Colab también facilita la colaboración en tiempo real y la integración con Google Drive, mientras que Jupyter ofrece mayor control sobre el entorno local y es ideal para trabajar sin conexión."
      ],
      "metadata": {
        "id": "O0bj-0JguudZ"
      }
    },
    {
      "cell_type": "code",
      "source": [
        "import pandas as pd\n",
        "\n",
        "# Leer el CSV que creamos\n",
        "df = pd.read_csv('notebooks/semana2/sample.csv', encoding='utf-8')\n",
        "df"
      ],
      "metadata": {
        "id": "-b-TodgYuzYX"
      },
      "execution_count": null,
      "outputs": []
    },
    {
      "cell_type": "code",
      "source": [
        "# Estadísticas\n",
        "print(\"Descripción:\")\n",
        "display(df.describe(include='all'))"
      ],
      "metadata": {
        "id": "gbWR1eMJu1mO"
      },
      "execution_count": null,
      "outputs": []
    },
    {
      "cell_type": "code",
      "source": [
        "import matplotlib.pyplot as plt\n",
        "\n",
        "plt.figure(figsize=(7,4))\n",
        "plt.bar(df['name'], df['score'], color='C0', edgecolor='black')\n",
        "plt.title('Puntuación por persona')\n",
        "plt.xlabel('Nombre')\n",
        "plt.ylabel('Score')\n",
        "plt.ylim(0, 100)\n",
        "plt.grid(axis='y', alpha=0.2)\n",
        "plt.show()"
      ],
      "metadata": {
        "id": "81scZ416u4vH"
      },
      "execution_count": null,
      "outputs": []
    }
  ]
}