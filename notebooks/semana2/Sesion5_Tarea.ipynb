{
  "cells": [
    {
      "cell_type": "markdown",
      "metadata": {
        "id": "5XKQ4JR2ukBn"
      },
      "source": [
        "# Sesion 5 - Tarea\n",
        "**Nombre**: Dana Yaziel Juarez Ramirez\n",
        "\n",
        "**Fecha**: 16 septiembre 2025\n",
        "\n",
        "**Tema**: Jupyter Notebook y Google colab"
      ]
    },
    {
      "cell_type": "markdown",
      "metadata": {
        "id": "O0bj-0JguudZ"
      },
      "source": [
        "*Diferencia entre Jupyter y Google Colab*\n",
        "\n",
        "Jupyter es una herramienta local que necesitas instalar y configurar en tu computadora, mientras que Google Colab es un servicio basado en la nube que funciona en tu navegador, no requiere instalación y ofrece acceso gratuito a recursos computacionales como GPUs y TPUs. Colab también facilita la colaboración en tiempo real y la integración con Google Drive, mientras que Jupyter ofrece mayor control sobre el entorno local y es ideal para trabajar sin conexión."
      ]
    },
    {
      "cell_type": "code",
      "execution_count": 22,
      "metadata": {
        "id": "-b-TodgYuzYX"
      },
      "outputs": [
        {
          "name": "stdout",
          "output_type": "stream",
          "text": [
            "name,age,score\n",
            "\n",
            "Ana,23,85\n",
            "\n",
            "Luis,30,78\n",
            "\n",
            "Marta,27,92\n",
            "\n",
            "Diego,22,67\n",
            "\n"
          ]
        }
      ],
      "source": [
        "import pandas as pd\n",
        "\n",
        "# Probar lectura con ; como separador\n",
        "with open(\"sample.csv\", \"r\", encoding=\"utf-8\") as f:\n",
        "    for i in range(5):\n",
        "        print(f.readline())"
      ]
    },
    {
      "cell_type": "code",
      "execution_count": 19,
      "metadata": {
        "id": "gbWR1eMJu1mO"
      },
      "outputs": [
        {
          "name": "stdout",
          "output_type": "stream",
          "text": [
            "Descripción:\n",
            "    name  age  score\n",
            "0    Ana   23     85\n",
            "1   Luis   30     78\n",
            "2  Marta   27     92\n",
            "3  Diego   22     67\n",
            "4  Sofía   25     88\n"
          ]
        }
      ],
      "source": [
        "import pandas as pd\n",
        "\n",
        "datos = pd.read_csv(\"sample.csv\", sep=\",\", encoding=\"utf-8\")\n",
        "\n",
        "print(\"Descripción:\")\n",
        "print(datos)"
      ]
    },
    {
      "cell_type": "code",
      "execution_count": 21,
      "metadata": {
        "id": "81scZ416u4vH"
      },
      "outputs": [
        {
          "data": {
            "image/png": "[encoded data removed]",
            "text/plain": [
              "<Figure size 700x400 with 1 Axes>"
            ]
          },
          "metadata": {},
          "output_type": "display_data"
        }
      ],
      "source": [
        "import matplotlib.pyplot as plt\n",
        "\n",
        "plt.figure(figsize=(7,4))\n",
        "plt.bar(datos['name'], datos['score'], color='c', edgecolor='black')\n",
        "plt.title('Puntuación por persona')\n",
        "plt.xlabel('Nombre')\n",
        "plt.ylabel('Score')\n",
        "plt.ylim(0, 100)\n",
        "plt.grid(axis='y', alpha=0.2)\n",
        "plt.show()"
      ]
    }
  ],
  "metadata": {
    "colab": {
      "provenance": []
    },
    "kernelspec": {
      "display_name": "base",
      "language": "python",
      "name": "python3"
    },
    "language_info": {
      "codemirror_mode": {
        "name": "ipython",
        "version": 3
      },
      "file_extension": ".py",
      "mimetype": "text/x-python",
      "name": "python",
      "nbconvert_exporter": "python",
      "pygments_lexer": "ipython3",
      "version": "3.12.7"
    }
  },
  "nbformat": 4,
  "nbformat_minor": 0
}
