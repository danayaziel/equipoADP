{
 "cells": [
  {
   "cell_type": "markdown",
   "id": "f94126d0",
   "metadata": {},
   "source": [
    "# Sesion 5 - Practica\n",
    "**Nombre**: Dana Yaziel Juarez Ramirez\n",
    "\n",
    "**Matricula**: 2022390465\n",
    "\n",
    "**Objetivo del curso**: Aprender sobre fundamentos de ciencia de datos y el uso de diversas herramientas para la programacion"
   ]
  },
  {
   "cell_type": "code",
   "execution_count": null,
   "id": "b1c89890-5571-49e8-a312-87ca585c4cf0",
   "metadata": {},
   "outputs": [],
   "source": [
    "numeros = [1, 2, 3, 4, 5]\n",
    "suma = sum(numeros)\n",
    "promedio = suma / len(numeros)\n",
    "print(\"Lista:\", numeros)\n",
    "print(\"Suma:\", suma)\n",
    "print(\"Promedio:\", promedio)"
   ]
  },
  {
   "cell_type": "code",
   "execution_count": null,
   "id": "28d43d6e-fa49-49f4-a8a1-950d02194e4e",
   "metadata": {},
   "outputs": [],
   "source": [
    "import matplotlib.pyplot as plt\n",
    "\n",
    "plt.plot(range(len(numeros)), numeros, marker=\"o\")\n",
    "plt.title(\"Valores de la lista vs índice\")\n",
    "plt.xlabel(\"Índice\")\n",
    "plt.ylabel(\"Valor\")\n",
    "plt.show()"
   ]
  }
 ],
 "metadata": {
  "kernelspec": {
   "display_name": "Python [conda env:base] *",
   "language": "python",
   "name": "conda-base-py"
  },
  "language_info": {
   "codemirror_mode": {
    "name": "ipython",
    "version": 3
   },
   "file_extension": ".py",
   "mimetype": "text/x-python",
   "name": "python",
   "nbconvert_exporter": "python",
   "pygments_lexer": "ipython3",
   "version": "3.12.7"
  }
 },
 "nbformat": 4,
 "nbformat_minor": 5
}
